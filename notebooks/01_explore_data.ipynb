version https://git-lfs.github.com/spec/v1
oid sha256:bfaaa6cacafc3b8321b4ef0149d3fdd75e14f8a854cca011ba3c13cf7fccd2e8
size 67175
