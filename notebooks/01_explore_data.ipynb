{
 "cells": [
  {
   "cell_type": "markdown",
   "id": "af9d9994",
   "metadata": {},
   "source": [
    "# EDA"
   ]
  },
  {
   "cell_type": "markdown",
   "id": "39baa774",
   "metadata": {},
   "source": []
  },
  {
   "cell_type": "code",
   "execution_count": 6,
   "id": "760ecdbb",
   "metadata": {},
   "outputs": [
    {
     "name": "stdout",
     "output_type": "stream",
     "text": [
      "                                            Sentence Sentiment\n",
      "0  The GeoSolutions technology will leverage Bene...  positive\n",
      "1  $ESI on lows, down $1.50 to $2.50 BK a real po...  negative\n",
      "2  For the last quarter of 2010 , Componenta 's n...  positive\n",
      "3  According to the Finnish-Russian Chamber of Co...   neutral\n",
      "4  The Swedish buyout firm has sold its remaining...   neutral\n",
      "(5842, 2)\n",
      "Sentence     object\n",
      "Sentiment    object\n",
      "dtype: object\n",
      "Sentence     0\n",
      "Sentiment    0\n",
      "dtype: int64\n",
      "Index(['Sentence', 'Sentiment'], dtype='object')\n",
      "Sentiment\n",
      "neutral     0.535775\n",
      "positive    0.317015\n",
      "negative    0.147210\n",
      "Name: proportion, dtype: float64\n"
     ]
    }
   ],
   "source": [
    "import pandas as pd\n",
    "from pathlib import Path\n",
    "\n",
    "\n",
    "# Set up root directory path\n",
    "root_dir = Path.cwd().parent\n",
    "data_path = root_dir / 'data' / 'data.csv'\n",
    "\n",
    "# load\n",
    "df = pd.read_csv(data_path)\n",
    "\n",
    "# 1.1 Peek at the top rows\n",
    "print(df.head())\n",
    "\n",
    "# 1.2 Basic shape / info\n",
    "print(df.shape)\n",
    "print(df.dtypes)\n",
    "\n",
    "# 1.3 Check for missing values\n",
    "print(df.isnull().sum())\n",
    "\n",
    "print(df.columns)\n",
    "\n",
    "# 1.4 Distribution of labels\n",
    "print(df['Sentiment'].value_counts(normalize=True))\n"
   ]
  },
  {
   "cell_type": "code",
   "execution_count": 7,
   "id": "a85d165c",
   "metadata": {},
   "outputs": [
    {
     "name": "stdout",
     "output_type": "stream",
     "text": [
      "count    5842.000000\n",
      "mean       21.004793\n",
      "std        10.306465\n",
      "min         2.000000\n",
      "25%        13.000000\n",
      "50%        19.000000\n",
      "75%        27.000000\n",
      "max        81.000000\n",
      "Name: token_count, dtype: float64\n"
     ]
    },
    {
     "data": {
      "image/png": "[encoded data removed]",
      "text/plain": [
       "<Figure size 640x480 with 1 Axes>"
      ]
     },
     "metadata": {},
     "output_type": "display_data"
    }
   ],
   "source": [
    "import matplotlib.pyplot as plt\n",
    "\n",
    "# compute token counts (roughly) by splitting on whitespace\n",
    "df['token_count'] = df['Sentence'].str.split().apply(len)\n",
    "\n",
    "# summary stats\n",
    "print(df['token_count'].describe())\n",
    "\n",
    "# simple histogram with matplotlib\n",
    "import matplotlib.pyplot as plt\n",
    "\n",
    "plt.figure()\n",
    "plt.hist(df['token_count'], bins=30)\n",
    "plt.xlabel(\"Token count\")\n",
    "plt.ylabel(\"Number of examples\")\n",
    "plt.title(\"Text length distribution\")\n",
    "plt.show()\n"
   ]
  },
  {
   "cell_type": "code",
   "execution_count": 21,
   "id": "2401dbc6",
   "metadata": {},
   "outputs": [
    {
     "name": "stdout",
     "output_type": "stream",
     "text": [
      "4.51.3\n",
      "/opt/conda/envs/finsen-env/lib/python3.10/site-packages/transformers/__init__.py\n",
      "transformers.training_args\n",
      "(self, output_dir: Optional[str] = None, overwrite_output_dir: bool = False, do_train: bool = False, do_eval: bool = False, do_predict: bool = False, eval_strategy: Union[transformers.trainer_utils.IntervalStrategy, str] = 'no', prediction_loss_only: bool = False, per_device_train_batch_size: int = 8, per_device_eval_batch_size: int = 8, per_gpu_train_batch_size: Optional[int] = None, per_gpu_eval_batch_size: Optional[int] = None, gradient_accumulation_steps: int = 1, eval_accumulation_steps: Optional[int] = None, eval_delay: Optional[float] = 0, torch_empty_cache_steps: Optional[int] = None, learning_rate: float = 5e-05, weight_decay: float = 0.0, adam_beta1: float = 0.9, adam_beta2: float = 0.999, adam_epsilon: float = 1e-08, max_grad_norm: float = 1.0, num_train_epochs: float = 3.0, max_steps: int = -1, lr_scheduler_type: Union[transformers.trainer_utils.SchedulerType, str] = 'linear', lr_scheduler_kwargs: Union[dict, str, NoneType] = <factory>, warmup_ratio: float = 0.0, warmup_steps: int = 0, log_level: Optional[str] = 'passive', log_level_replica: Optional[str] = 'warning', log_on_each_node: bool = True, logging_dir: Optional[str] = None, logging_strategy: Union[transformers.trainer_utils.IntervalStrategy, str] = 'steps', logging_first_step: bool = False, logging_steps: float = 500, logging_nan_inf_filter: bool = True, save_strategy: Union[transformers.trainer_utils.SaveStrategy, str] = 'steps', save_steps: float = 500, save_total_limit: Optional[int] = None, save_safetensors: Optional[bool] = True, save_on_each_node: bool = False, save_only_model: bool = False, restore_callback_states_from_checkpoint: bool = False, no_cuda: bool = False, use_cpu: bool = False, use_mps_device: bool = False, seed: int = 42, data_seed: Optional[int] = None, jit_mode_eval: bool = False, use_ipex: bool = False, bf16: bool = False, fp16: bool = False, fp16_opt_level: str = 'O1', half_precision_backend: str = 'auto', bf16_full_eval: bool = False, fp16_full_eval: bool = False, tf32: Optional[bool] = None, local_rank: int = -1, ddp_backend: Optional[str] = None, tpu_num_cores: Optional[int] = None, tpu_metrics_debug: bool = False, debug: Union[str, list[transformers.debug_utils.DebugOption]] = '', dataloader_drop_last: bool = False, eval_steps: Optional[float] = None, dataloader_num_workers: int = 0, dataloader_prefetch_factor: Optional[int] = None, past_index: int = -1, run_name: Optional[str] = None, disable_tqdm: Optional[bool] = None, remove_unused_columns: Optional[bool] = True, label_names: Optional[list[str]] = None, load_best_model_at_end: Optional[bool] = False, metric_for_best_model: Optional[str] = None, greater_is_better: Optional[bool] = None, ignore_data_skip: bool = False, fsdp: Union[list[transformers.trainer_utils.FSDPOption], str, NoneType] = '', fsdp_min_num_params: int = 0, fsdp_config: Union[dict, str, NoneType] = None, tp_size: Optional[int] = 0, fsdp_transformer_layer_cls_to_wrap: Optional[str] = None, accelerator_config: Union[dict, str, NoneType] = None, deepspeed: Union[dict, str, NoneType] = None, label_smoothing_factor: float = 0.0, optim: Union[transformers.training_args.OptimizerNames, str] = 'adamw_torch', optim_args: Optional[str] = None, adafactor: bool = False, group_by_length: bool = False, length_column_name: Optional[str] = 'length', report_to: Union[NoneType, str, list[str]] = None, ddp_find_unused_parameters: Optional[bool] = None, ddp_bucket_cap_mb: Optional[int] = None, ddp_broadcast_buffers: Optional[bool] = None, dataloader_pin_memory: bool = True, dataloader_persistent_workers: bool = False, skip_memory_metrics: bool = True, use_legacy_prediction_loop: bool = False, push_to_hub: bool = False, resume_from_checkpoint: Optional[str] = None, hub_model_id: Optional[str] = None, hub_strategy: Union[transformers.trainer_utils.HubStrategy, str] = 'every_save', hub_token: Optional[str] = None, hub_private_repo: Optional[bool] = None, hub_always_push: bool = False, gradient_checkpointing: bool = False, gradient_checkpointing_kwargs: Union[dict, str, NoneType] = None, include_inputs_for_metrics: bool = False, include_for_metrics: list[str] = <factory>, eval_do_concat_batches: bool = True, fp16_backend: str = 'auto', push_to_hub_model_id: Optional[str] = None, push_to_hub_organization: Optional[str] = None, push_to_hub_token: Optional[str] = None, mp_parameters: str = '', auto_find_batch_size: bool = False, full_determinism: bool = False, torchdynamo: Optional[str] = None, ray_scope: Optional[str] = 'last', ddp_timeout: Optional[int] = 1800, torch_compile: bool = False, torch_compile_backend: Optional[str] = None, torch_compile_mode: Optional[str] = None, include_tokens_per_second: Optional[bool] = False, include_num_input_tokens_seen: Optional[bool] = False, neftune_noise_alpha: Optional[float] = None, optim_target_modules: Union[NoneType, str, list[str]] = None, batch_eval_metrics: bool = False, eval_on_start: bool = False, use_liger_kernel: Optional[bool] = False, eval_use_gather_object: Optional[bool] = False, average_tokens_across_devices: Optional[bool] = False) -> None\n"
     ]
    }
   ],
   "source": [
    "import transformers, inspect\n",
    "from transformers import TrainingArguments\n",
    "\n",
    "print(transformers.__version__)           # should be 4.51.3\n",
    "print(transformers.__file__)              # path to the loaded module\n",
    "print(TrainingArguments.__module__)       # should start with \"transformers.training_args\"\n",
    "print(inspect.signature(TrainingArguments.__init__))  \n",
    "\n"
   ]
  },
  {
   "cell_type": "code",
   "execution_count": 22,
   "id": "ccb47e21",
   "metadata": {},
   "outputs": [
    {
     "name": "stderr",
     "output_type": "stream",
     "text": [
      "Some weights of DistilBertForSequenceClassification were not initialized from the model checkpoint at distilbert-base-uncased and are newly initialized: ['classifier.bias', 'classifier.weight', 'pre_classifier.bias', 'pre_classifier.weight']\n",
      "You should probably TRAIN this model on a down-stream task to be able to use it for predictions and inference.\n",
      "/tmp/ipykernel_2738/1722040195.py:31: FutureWarning: `tokenizer` is deprecated and will be removed in version 5.0.0 for `Trainer.__init__`. Use `processing_class` instead.\n",
      "  trainer = Trainer(\n",
      "/opt/conda/envs/finsen-env/lib/python3.10/site-packages/torch/utils/data/dataloader.py:665: UserWarning: 'pin_memory' argument is set as true but no accelerator is found, then device pinned memory won't be used.\n",
      "  warnings.warn(warn_msg)\n"
     ]
    },
    {
     "data": {
      "text/html": [
       "\n",
       "    <div>\n",
       "      \n",
       "      <progress value='10' max='10' style='width:300px; height:20px; vertical-align: middle;'></progress>\n",
       "      [10/10 00:24, Epoch 1/1]\n",
       "    </div>\n",
       "    <table border=\"1\" class=\"dataframe\">\n",
       "  <thead>\n",
       " <tr style=\"text-align: left;\">\n",
       "      <th>Epoch</th>\n",
       "      <th>Training Loss</th>\n",
       "      <th>Validation Loss</th>\n",
       "    </tr>\n",
       "  </thead>\n",
       "  <tbody>\n",
       "    <tr>\n",
       "      <td>1</td>\n",
       "      <td>1.051500</td>\n",
       "      <td>0.974246</td>\n",
       "    </tr>\n",
       "  </tbody>\n",
       "</table><p>"
      ],
      "text/plain": [
       "<IPython.core.display.HTML object>"
      ]
     },
     "metadata": {},
     "output_type": "display_data"
    },
    {
     "data": {
      "text/plain": [
       "TrainOutput(global_step=10, training_loss=1.0515110969543457, metrics={'train_runtime': 27.9414, 'train_samples_per_second': 2.863, 'train_steps_per_second': 0.358, 'total_flos': 2649395220480.0, 'train_loss': 1.0515110969543457, 'epoch': 1.0})"
      ]
     },
     "execution_count": 22,
     "metadata": {},
     "output_type": "execute_result"
    }
   ],
   "source": [
    "from transformers import AutoModelForSequenceClassification, AutoTokenizer, Trainer, TrainingArguments\n",
    "import sys, importlib\n",
    "sys.path.append(str(Path.cwd().parent / 'src'))\n",
    "\n",
    "importlib.reload(sys.modules['dataset'])\n",
    "from dataset import FinancialPhraseBank\n",
    "from sklearn.model_selection import train_test_split\n",
    "\n",
    "\n",
    "# 3.1 prepare a tiny subset\n",
    "small_df = df.sample(100, random_state=42)\n",
    "train_df, val_df = train_test_split(small_df, test_size=0.2, random_state=42)\n",
    "tokenizer = AutoTokenizer.from_pretrained(\"distilbert-base-uncased\")\n",
    "train_ds = FinancialPhraseBank(train_df, tokenizer)\n",
    "val_ds   = FinancialPhraseBank(val_df,   tokenizer)\n",
    "\n",
    "# 3.2 load small model\n",
    "model = AutoModelForSequenceClassification.from_pretrained(\"distilbert-base-uncased\", num_labels=3)\n",
    "\n",
    "args = TrainingArguments(\n",
    "    output_dir=\"toy-outputs\",\n",
    "    per_device_train_batch_size=8,\n",
    "    per_device_eval_batch_size=16,\n",
    "    num_train_epochs=1,\n",
    "    logging_steps=10,\n",
    "    logging_dir=\"toy-logs\",\n",
    "    eval_strategy=\"epoch\",\n",
    "    save_strategy=\"no\",\n",
    ")\n",
    "\n",
    "trainer = Trainer(\n",
    "    model=model,\n",
    "    args=args,\n",
    "    train_dataset=train_ds,\n",
    "    eval_dataset=val_ds,\n",
    "    tokenizer=tokenizer,\n",
    ")\n",
    "trainer.train()\n"
   ]
  },
  {
   "cell_type": "code",
   "execution_count": 23,
   "id": "0d2fc045",
   "metadata": {},
   "outputs": [
    {
     "data": {
      "text/html": [
       "\n",
       "    <div>\n",
       "      \n",
       "      <progress value='2' max='2' style='width:300px; height:20px; vertical-align: middle;'></progress>\n",
       "      [2/2 00:00]\n",
       "    </div>\n",
       "    "
      ],
      "text/plain": [
       "<IPython.core.display.HTML object>"
      ]
     },
     "metadata": {},
     "output_type": "display_data"
    },
    {
     "name": "stdout",
     "output_type": "stream",
     "text": [
      "{'eval_loss': 0.9742459058761597, 'eval_runtime': 2.1756, 'eval_samples_per_second': 9.193, 'eval_steps_per_second': 0.919, 'epoch': 1.0}\n"
     ]
    }
   ],
   "source": [
    "metrics = trainer.evaluate()\n",
    "print(metrics)\n"
   ]
  },
  {
   "cell_type": "code",
   "execution_count": 24,
   "id": "b92e3bfb",
   "metadata": {},
   "outputs": [
    {
     "name": "stdout",
     "output_type": "stream",
     "text": [
      "Operating profit of Kauppalehti group rose to EUR 1.5 mn from EUR 1.3 mn , and that of Marketplaces to EUR 1.3 mn from EUR 1.0 mn in the third quarter of 2006 . → 1 ( positive )\n",
      "Tyrv+ñinen is of the opinion that the airline has been repeating this for some time already , however . → 1 ( neutral )\n",
      "The service is intended to allow the people of thirteen Mediterranean countries to reach the Baltic more rapidly , with a single carrier . → 1 ( positive )\n",
      "Exports grew 16.5 percent to 19.1 million liters . → 1 ( positive )\n",
      "It also said its third quarter diluted EPS came in at 0.34 eur compared with 0.16 eur in the same quarter a year ago . → 1 ( positive )\n"
     ]
    }
   ],
   "source": [
    "for i in range(5):\n",
    "    inputs = tokenizer(val_df.iloc[i]['Sentence'], return_tensors=\"pt\")\n",
    "    pred = model(**inputs).logits.argmax(-1).item()\n",
    "    print(val_df.iloc[i]['Sentence'], \"→\", pred, \"(\", val_df.iloc[i]['Sentiment'], \")\")\n"
   ]
  },
  {
   "cell_type": "markdown",
   "id": "9f40fb5a",
   "metadata": {},
   "source": [
    "## Label"
   ]
  },
  {
   "cell_type": "code",
   "execution_count": null,
   "id": "442387c2",
   "metadata": {},
   "outputs": [],
   "source": [
    "# 1.1 Define a fixed mapping\n",
    "label2id = {\n",
    "    \"negative\": 0,\n",
    "    \"neutral\":  1,\n",
    "    \"positive\": 2,\n",
    "}\n",
    "id2label = {v: k for k, v in label2id.items()}\n",
    "\n",
    "print(label2id, id2label)\n"
   ]
  },
  {
   "cell_type": "code",
   "execution_count": null,
   "id": "aad61233",
   "metadata": {},
   "outputs": [],
   "source": [
    "from sklearn.model_selection import train_test_split\n",
    "\n",
    "train_df, val_df = train_test_split(\n",
    "    df,\n",
    "    test_size=0.2,\n",
    "    stratify=df[\"Sentiment\"],\n",
    "    random_state=42\n",
    ")\n",
    "print(\"Train distribution:\\n\", train_df['Sentiment'].value_counts(normalize=True))\n",
    "print(\"Val   distribution:\\n\", val_df['Sentiment'].value_counts(normalize=True))\n"
   ]
  },
  {
   "cell_type": "code",
   "execution_count": null,
   "id": "59aef1bf",
   "metadata": {},
   "outputs": [],
   "source": [
    "from dataset import FinancialPhraseBank\n",
    "\n",
    "# pass in label2id so your Dataset uses those IDs\n",
    "train_ds = FinancialPhraseBank(train_df, tokenizer, max_length=128, label2id=label2id)\n",
    "val_ds   = FinancialPhraseBank(val_df,   tokenizer, max_length=128, label2id=label2id)\n"
   ]
  },
  {
   "cell_type": "code",
   "execution_count": null,
   "id": "46572d21",
   "metadata": {},
   "outputs": [],
   "source": [
    "import numpy as np\n",
    "from sklearn.metrics import accuracy_score, f1_score\n",
    "from transformers import Trainer, TrainingArguments\n",
    "\n",
    "def compute_metrics(eval_pred):\n",
    "    logits, labels = eval_pred\n",
    "    preds = np.argmax(logits, axis=-1)\n",
    "    return {\n",
    "        \"accuracy\": accuracy_score(labels, preds),\n",
    "        \"f1_macro\": f1_score(labels, preds, average=\"macro\"),\n",
    "    }\n",
    "\n",
    "args = TrainingArguments(\n",
    "    output_dir=\"outputs/full-run\",\n",
    "    eval_strategy=\"epoch\",\n",
    "    save_strategy=\"epoch\",\n",
    "    load_best_model_at_end=True,\n",
    "    metric_for_best_model=\"f1_macro\",\n",
    "    per_device_train_batch_size=16,   # tune as you like\n",
    "    per_device_eval_batch_size=32,\n",
    "    num_train_epochs=3,\n",
    "    learning_rate=2e-5,\n",
    "    logging_steps=50,\n",
    ")\n",
    "\n",
    "trainer = Trainer(\n",
    "    model=model,\n",
    "    args=args,\n",
    "    train_dataset=train_ds,\n",
    "    eval_dataset=val_ds,\n",
    "    tokenizer=tokenizer,\n",
    "    compute_metrics=compute_metrics,\n",
    ")\n"
   ]
  },
  {
   "cell_type": "code",
   "execution_count": null,
   "id": "c4e3aef7",
   "metadata": {},
   "outputs": [],
   "source": [
    "trainer.train()\n"
   ]
  },
  {
   "cell_type": "code",
   "execution_count": null,
   "id": "8c808df0",
   "metadata": {},
   "outputs": [],
   "source": [
    "from sklearn.metrics import classification_report\n",
    "\n",
    "preds_out = trainer.predict(val_ds)\n",
    "preds = preds_out.predictions.argmax(-1)\n",
    "true  = preds_out.label_ids\n",
    "\n",
    "target_names = [id2label[i] for i in range(len(id2label))]\n",
    "print(classification_report(true, preds, target_names=target_names))\n"
   ]
  },
  {
   "cell_type": "markdown",
   "id": "cdecae9f",
   "metadata": {},
   "source": [
    "##  Dealing with Unbalance"
   ]
  },
  {
   "cell_type": "code",
   "execution_count": null,
   "id": "73623d34",
   "metadata": {},
   "outputs": [],
   "source": [
    "# Upsample negatives to match the largest class\n",
    "neg_df = train_df[train_df.Sentiment == \"negative\"]\n",
    "max_count = train_df.Sentiment.value_counts().max()\n",
    "neg_upsampled = neg_df.sample(max_count, replace=True, random_state=42)\n",
    "\n",
    "train_df_bal = pd.concat([train_df, neg_upsampled]).sample(frac=1, random_state=42)\n",
    "print(train_df_bal.Sentiment.value_counts())\n",
    "\n",
    "# Rebuild Dataset & Trainer on train_df_bal and re-train\n",
    "train_ds_bal = FinancialPhraseBank(train_df_bal, tokenizer, max_length=128, label2id=label2id)\n",
    "trainer.train_dataset = train_ds_bal\n",
    "trainer.train()\n"
   ]
  },
  {
   "cell_type": "markdown",
   "id": "4f2c1605",
   "metadata": {},
   "source": [
    "## Confusion Matrix"
   ]
  },
  {
   "cell_type": "code",
   "execution_count": null,
   "id": "c1bffeb8",
   "metadata": {},
   "outputs": [],
   "source": [
    "import pandas as pd\n",
    "from sklearn.metrics import confusion_matrix\n",
    "\n",
    "preds_out = trainer.predict(val_ds)\n",
    "preds = preds_out.predictions.argmax(-1)\n",
    "true  = preds_out.label_ids\n",
    "\n",
    "cm = confusion_matrix(true, preds)\n",
    "cm_df = pd.DataFrame(cm,\n",
    "                     index=target_names,\n",
    "                     columns=target_names)\n",
    "cm_df\n"
   ]
  }
 ],
 "metadata": {
  "kernelspec": {
   "display_name": "finsen-env",
   "language": "python",
   "name": "python3"
  },
  "language_info": {
   "codemirror_mode": {
    "name": "ipython",
    "version": 3
   },
   "file_extension": ".py",
   "mimetype": "text/x-python",
   "name": "python",
   "nbconvert_exporter": "python",
   "pygments_lexer": "ipython3",
   "version": "3.10.16"
  }
 },
 "nbformat": 4,
 "nbformat_minor": 5
}
